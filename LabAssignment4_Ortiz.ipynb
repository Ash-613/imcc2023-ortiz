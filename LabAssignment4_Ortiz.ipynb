{
  "nbformat": 4,
  "nbformat_minor": 0,
  "metadata": {
    "colab": {
      "provenance": [],
      "authorship_tag": "ABX9TyO+zkJhCe4P6YRZK3SwnSxL",
      "include_colab_link": true
    },
    "kernelspec": {
      "name": "python3",
      "display_name": "Python 3"
    },
    "language_info": {
      "name": "python"
    }
  },
  "cells": [
    {
      "cell_type": "markdown",
      "metadata": {
        "id": "view-in-github",
        "colab_type": "text"
      },
      "source": [
        "<a href=\"https://colab.research.google.com/github/Ash-613/imcc2023-ortiz/blob/main/LabAssignment4_Ortiz.ipynb\" target=\"_parent\"><img src=\"https://colab.research.google.com/assets/colab-badge.svg\" alt=\"Open In Colab\"/></a>"
      ]
    },
    {
      "cell_type": "code",
      "execution_count": 2,
      "metadata": {
        "id": "ONhNRgqPQOMe"
      },
      "outputs": [],
      "source": [
        "import numpy as np\n",
        "import matplotlib.pyplot as plt\n",
        "import IPython.display"
      ]
    },
    {
      "cell_type": "code",
      "source": [
        "def plotAudio3(sig,sampleRate,title):\n",
        "    \n",
        "    # this version expects the audio file to have already been opened by librosa\n",
        "    \n",
        "    # Adjust the x-axis to represent time\n",
        "    time=np.arange(0,sig.shape[0])/sr\n",
        "    \n",
        "    # Scale the y-axis to represent amplitude from -1 to 1\n",
        "    excursion=max(abs(sig))\n",
        "    sigNew = sig / excursion\n",
        "    \n",
        "    # Label the x and y axes with variables\n",
        "    xlabel = 'Time (seconds)'\n",
        "    ylabel = 'Amplitude'\n",
        "\n",
        "    # Plot the signal using the x and y axis variables    \n",
        "    plt.plot(time,sigNew)\n",
        "    plt.xlabel(xlabel)\n",
        "    plt.ylabel(ylabel)\n",
        "    plt.title(title)\n",
        "    plt.show()"
      ],
      "metadata": {
        "id": "eyqE_kERQXmE"
      },
      "execution_count": 3,
      "outputs": []
    },
    {
      "cell_type": "code",
      "source": [
        "def additiveSynthesis(samplingRate,frequency,numHarmonics,seqHarm,ampExponent):\n",
        "\n",
        "    # generate list of harmonics\n",
        "    harmonics = np.arange(1,numHarmonics+1,seqHarm)\n",
        "    \n",
        "    # create a time series from 0 to 1 the inputted length    \n",
        "    timeSeries = np.linspace(0, 1, samplingRate)\n",
        "    \n",
        "    # create a cosine wave for the fundamental    \n",
        "    signal = np.cos(2.0 * np.pi * frequency * timeSeries)\n",
        "\n",
        "    # add harmonics based on the those specified in the variable 'harmonics'\n",
        "    for harm in harmonics:\n",
        "        signal = signal + np.cos(2.0 * np.pi * frequency * harm * timeSeries)/harm**ampExponent     \n",
        "    \n",
        "    # scale the signal to between -1 and 1\n",
        "    excursion=max(abs(signal))\n",
        "    signal = signal / excursion\n",
        "    \n",
        "    # plot signal\n",
        "    plt.plot(timeSeries,signal)\n",
        "    plt.xlabel('Time (Sec)')\n",
        "    plt.ylabel('Amplitude')\n",
        "    plt.title('Additive Synthesis')\n",
        "    plt.plot\n",
        "        \n",
        "    return signal"
      ],
      "metadata": {
        "id": "r81JkB32Ru5F"
      },
      "execution_count": 4,
      "outputs": []
    },
    {
      "cell_type": "code",
      "source": [
        "def plotAudioFreqDomain(sig,sr,title,winSize,specType):\n",
        "\n",
        "    # create a normalized spectrogram \n",
        "# this includes several function calls\n",
        "# first create a basic specgrogram with librosa.stft() with the default window size (2048)\n",
        "# then make all of values in the spectrogram positive with np.abs()\n",
        "# then scale the spectogram to be in decibels, so it better reflects how we hear librosa.amplitude_to_db() \n",
        "    spec = librosa.amplitude_to_db(np.abs(librosa.stft(sig,n_fft=winSize)), ref=np.max)\n",
        "\n",
        "# display the normalized spectrogram with a linear frequency scale\n",
        "    librosa.display.specshow(spec, y_axis=specType)\n",
        "    plt.colorbar(format='%+2.0f dB')\n",
        "    plt.title(title)\n",
        "    plt.show()\n",
        " "
      ],
      "metadata": {
        "id": "EuJm8UjQWvOe"
      },
      "execution_count": 5,
      "outputs": []
    },
    {
      "cell_type": "code",
      "source": [
        "def makeWaveforms(frequency,samplingRate,numHarmonics,waveType):\n",
        "\n",
        "#use an if/elif/else statement to set up the parramters for the differennt type of waveforms based on the code in additiveSynthesis.ipynb\n",
        "    if waveType == 'sawtooth':\n",
        "        seqHarm = 1\n",
        "        ampExponent = 1\n",
        "    elif waveType == 'square': \n",
        "        seqHarm = 2\n",
        "        ampExponent = 1\n",
        "    elif waveType == 'triangle':\n",
        "        seqHarm = 2\n",
        "        ampExponent = 2\n",
        "    else: \n",
        "        numHarmonics = 1\n",
        "        seqHarm = 1\n",
        "        ampExponent = 1\n",
        "\n",
        "# call additiveSynthesis() to generate a waveform\n",
        "#return the generated wavefrom (signal)\n",
        "    signal = additiveSynthesis(samplingRate,frequency,numHarmonics,seqHarm,ampExponent)\n",
        "  \n"
      ],
      "metadata": {
        "id": "bnQqgchrSD7G"
      },
      "execution_count": 6,
      "outputs": []
    },
    {
      "cell_type": "code",
      "source": [
        "def visualizeWaveforms(frequency,samplingRate,numHarmonics,waveType):\n",
        "\n",
        "# call makeWaveform()\n",
        "    makeWaveforms(frequency,samplingRate,numHarmonics,waveType)\n",
        "# test whether makeWavefrom() runs without error before you try plotting anything\n",
        "\n",
        "    plotAudioFreqDomain(sig,sr,title,winSize,specType)\n",
        "#"
      ],
      "metadata": {
        "id": "-Pt7-6l-U_V-"
      },
      "execution_count": 7,
      "outputs": []
    },
    {
      "cell_type": "code",
      "source": [
        "frequency = 100\n",
        "samplingRate = 44100\n",
        "numHarmonics = 100\n",
        "waveType = 'sine'\n",
        "winSize = 1024\n",
        "spectype = 'log'\n",
        "\n",
        "\n",
        "#visualizeWaveforms()\n",
        "#IPython.display.Audio() \n",
        "plotAudioFunc(sig,sr,title,winSize,specType)"
      ],
      "metadata": {
        "id": "2819DoZjV5OL",
        "colab": {
          "base_uri": "https://localhost:8080/",
          "height": 198
        },
        "outputId": "3b37f9c7-8e18-498e-dec6-82d57df3eb79"
      },
      "execution_count": 16,
      "outputs": [
        {
          "output_type": "error",
          "ename": "NameError",
          "evalue": "ignored",
          "traceback": [
            "\u001b[0;31m---------------------------------------------------------------------------\u001b[0m",
            "\u001b[0;31mNameError\u001b[0m                                 Traceback (most recent call last)",
            "\u001b[0;32m<ipython-input-16-243580bffd56>\u001b[0m in \u001b[0;36m<cell line: 11>\u001b[0;34m()\u001b[0m\n\u001b[1;32m      9\u001b[0m \u001b[0;31m#visualizeWaveforms()\u001b[0m\u001b[0;34m\u001b[0m\u001b[0;34m\u001b[0m\u001b[0m\n\u001b[1;32m     10\u001b[0m \u001b[0;31m#IPython.display.Audio()\u001b[0m\u001b[0;34m\u001b[0m\u001b[0;34m\u001b[0m\u001b[0m\n\u001b[0;32m---> 11\u001b[0;31m \u001b[0mplotAudioFunc\u001b[0m\u001b[0;34m(\u001b[0m\u001b[0msig\u001b[0m\u001b[0;34m,\u001b[0m\u001b[0msr\u001b[0m\u001b[0;34m,\u001b[0m\u001b[0mtitle\u001b[0m\u001b[0;34m,\u001b[0m\u001b[0mwinSize\u001b[0m\u001b[0;34m,\u001b[0m\u001b[0mspecType\u001b[0m\u001b[0;34m)\u001b[0m\u001b[0;34m\u001b[0m\u001b[0;34m\u001b[0m\u001b[0m\n\u001b[0m",
            "\u001b[0;31mNameError\u001b[0m: name 'plotAudioFunc' is not defined"
          ]
        }
      ]
    },
    {
      "cell_type": "code",
      "source": [
        "frequency = 100\n",
        "samplingRate = 44100\n",
        "numHarmonics = 100\n",
        "waveType = 'sawtooth'\n",
        "winSize = 1024\n",
        "specType = 'log'\n",
        "\n",
        "#visualizeWaveforms()\n",
        "IPython.display.Audio('imc2023/audioFiles/avm.wav') "
      ],
      "metadata": {
        "id": "FfjAw5llWR6D",
        "colab": {
          "base_uri": "https://localhost:8080/",
          "height": 317
        },
        "outputId": "cb3bbf4f-2ed4-4102-bcc0-cadbe264b1f7"
      },
      "execution_count": 14,
      "outputs": [
        {
          "output_type": "error",
          "ename": "ValueError",
          "evalue": "ignored",
          "traceback": [
            "\u001b[0;31m---------------------------------------------------------------------------\u001b[0m",
            "\u001b[0;31mValueError\u001b[0m                                Traceback (most recent call last)",
            "\u001b[0;32m<ipython-input-14-6edd4d9364e0>\u001b[0m in \u001b[0;36m<cell line: 9>\u001b[0;34m()\u001b[0m\n\u001b[1;32m      7\u001b[0m \u001b[0;34m\u001b[0m\u001b[0m\n\u001b[1;32m      8\u001b[0m \u001b[0;31m#visualizeWaveforms()\u001b[0m\u001b[0;34m\u001b[0m\u001b[0;34m\u001b[0m\u001b[0m\n\u001b[0;32m----> 9\u001b[0;31m \u001b[0mIPython\u001b[0m\u001b[0;34m.\u001b[0m\u001b[0mdisplay\u001b[0m\u001b[0;34m.\u001b[0m\u001b[0mAudio\u001b[0m\u001b[0;34m(\u001b[0m\u001b[0;34m'imc2023/audioFiles/avm.wav'\u001b[0m\u001b[0;34m)\u001b[0m\u001b[0;34m\u001b[0m\u001b[0;34m\u001b[0m\u001b[0m\n\u001b[0m",
            "\u001b[0;32m/usr/local/lib/python3.10/dist-packages/IPython/lib/display.py\u001b[0m in \u001b[0;36m__init__\u001b[0;34m(self, data, filename, url, embed, rate, autoplay, normalize, element_id)\u001b[0m\n\u001b[1;32m    114\u001b[0m         \u001b[0;32mif\u001b[0m \u001b[0mself\u001b[0m\u001b[0;34m.\u001b[0m\u001b[0mdata\u001b[0m \u001b[0;32mis\u001b[0m \u001b[0;32mnot\u001b[0m \u001b[0;32mNone\u001b[0m \u001b[0;32mand\u001b[0m \u001b[0;32mnot\u001b[0m \u001b[0misinstance\u001b[0m\u001b[0;34m(\u001b[0m\u001b[0mself\u001b[0m\u001b[0;34m.\u001b[0m\u001b[0mdata\u001b[0m\u001b[0;34m,\u001b[0m \u001b[0mbytes\u001b[0m\u001b[0;34m)\u001b[0m\u001b[0;34m:\u001b[0m\u001b[0;34m\u001b[0m\u001b[0;34m\u001b[0m\u001b[0m\n\u001b[1;32m    115\u001b[0m             \u001b[0;32mif\u001b[0m \u001b[0mrate\u001b[0m \u001b[0;32mis\u001b[0m \u001b[0;32mNone\u001b[0m\u001b[0;34m:\u001b[0m\u001b[0;34m\u001b[0m\u001b[0;34m\u001b[0m\u001b[0m\n\u001b[0;32m--> 116\u001b[0;31m                 \u001b[0;32mraise\u001b[0m \u001b[0mValueError\u001b[0m\u001b[0;34m(\u001b[0m\u001b[0;34m\"rate must be specified when data is a numpy array or list of audio samples.\"\u001b[0m\u001b[0;34m)\u001b[0m\u001b[0;34m\u001b[0m\u001b[0;34m\u001b[0m\u001b[0m\n\u001b[0m\u001b[1;32m    117\u001b[0m             \u001b[0mself\u001b[0m\u001b[0;34m.\u001b[0m\u001b[0mdata\u001b[0m \u001b[0;34m=\u001b[0m \u001b[0mAudio\u001b[0m\u001b[0;34m.\u001b[0m\u001b[0m_make_wav\u001b[0m\u001b[0;34m(\u001b[0m\u001b[0mdata\u001b[0m\u001b[0;34m,\u001b[0m \u001b[0mrate\u001b[0m\u001b[0;34m,\u001b[0m \u001b[0mnormalize\u001b[0m\u001b[0;34m)\u001b[0m\u001b[0;34m\u001b[0m\u001b[0;34m\u001b[0m\u001b[0m\n\u001b[1;32m    118\u001b[0m \u001b[0;34m\u001b[0m\u001b[0m\n",
            "\u001b[0;31mValueError\u001b[0m: rate must be specified when data is a numpy array or list of audio samples."
          ]
        }
      ]
    }
  ]
}